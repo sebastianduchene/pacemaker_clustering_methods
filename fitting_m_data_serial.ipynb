{
 "cells": [
  {
   "cell_type": "code",
   "execution_count": 7,
   "metadata": {
    "collapsed": true
   },
   "outputs": [],
   "source": [
    "import os, sys, re\n",
    "import pandas as pd\n",
    "import numpy as np\n",
    "from sklearn.decomposition import PCA\n",
    "from sklearn import mixture\n",
    "import scipy.stats as sp\n",
    "from scipy.spatial import distance\n",
    "import scipy.stats as sc\n",
    "from GMM_trees import *\n",
    "import itertools\n",
    "import multiprocessing\n",
    "from multiprocessing import Pool\n",
    "\n"
   ]
  },
  {
   "cell_type": "code",
   "execution_count": 13,
   "metadata": {
    "collapsed": true
   },
   "outputs": [],
   "source": [
    "# Simulate 100 data sets\n",
    "mm_dat = pd.DataFrame(rescale_data(np.array(pd.read_csv('mammal_matrix.csv'))))\n",
    "samples_temp = simulate_data(mm_dat, 2, 'spherical', 1)\n",
    "#for i in range(len(samples_temp_2)):\n",
    "#    pd.DataFrame(samples_temp_2[i]).to_csv('sim_mammals_2/sim_'+str(i)+'.csv')"
   ]
  },
  {
   "cell_type": "code",
   "execution_count": 14,
   "metadata": {
    "collapsed": false
   },
   "outputs": [
    {
     "data": {
      "text/plain": [
       "(431, 55)"
      ]
     },
     "execution_count": 14,
     "metadata": {},
     "output_type": "execute_result"
    }
   ],
   "source": [
    "samples_temp[0].shape"
   ]
  },
  {
   "cell_type": "code",
   "execution_count": 15,
   "metadata": {
    "collapsed": true
   },
   "outputs": [],
   "source": [
    "def fit_data(s_data):\n",
    "    print 'step 1'\n",
    "    fit_temp_vbgmm = fit_VBGMM(s_data)\n",
    "    fit_temp_dpp = fit_DPGMM(s_data)\n",
    "    print 'step 2'\n",
    "    run_models = unlist([fit_temp_vbgmm[:2], fit_temp_dpp[:2]])\n",
    "    models_order = np.hstack([fit_temp_vbgmm[2]['BIC'], fit_temp_dpp[2]['BIC']]).argsort()\n",
    "    best_model = run_models[models_order[0]]\n",
    "\n",
    "    k_best_model = len(set(best_model.predict(s_data)))\n",
    "    name_best_model = ['vbgmm_diag', 'vbgmm_shperical', 'dpp_diag', 'dpp_spherical'][models_order[0]]\n",
    "    return [name_best_model, k_best_model]\n",
    "    \n",
    "\n",
    "def fit_data(s_data):\n",
    "    print 'step 1'\n",
    "    fit_temp_vbgmm = fit_VBGMM(s_data)\n",
    "    fit_temp_dpp = fit_DPGMM(s_data)\n",
    "    print 'step 2'\n",
    "    run_models = unlist([fit_temp_vbgmm[:2], fit_temp_dpp[:2]])\n",
    "    models_order = np.hstack([fit_temp_vbgmm[2]['BIC'], fit_temp_dpp[2]['BIC']]).argsort()\n",
    "    best_model = run_models[models_order[0]]\n",
    "\n",
    "    k_best_model = len(set(best_model.predict(s_data)))\n",
    "    name_best_model = ['vbgmm_diag', 'vbgmm_shperical', 'dpp_diag', 'dpp_spherical'][models_order[0]]\n",
    "    return [name_best_model, k_best_model]"
   ]
  },
  {
   "cell_type": "code",
   "execution_count": 16,
   "metadata": {
    "collapsed": false
   },
   "outputs": [
    {
     "name": "stdout",
     "output_type": "stream",
     "text": [
      "step 1\n",
      "fitting 10 clusters\n",
      "fitting 20 clusters\n",
      "fitting 30 clusters\n",
      "fitting 40 clusters\n",
      "fitting 50 clusters\n",
      "fitting 60 clusters\n",
      "fitting 70 clusters\n",
      "fitting 80 clusters\n",
      "fitting 90 clusters\n",
      "fitting 100 clusters\n",
      "fitting 110 clusters\n",
      "fitting 120 clusters\n",
      "fitting 130 clusters\n",
      "fitting 140 clusters\n",
      "fitting 150 clusters\n",
      "fitting 160 clusters\n",
      "fitting 170 clusters\n",
      "fitting 180 clusters\n",
      "fitting 190 clusters\n",
      "fitting 200 clusters\n",
      "fitting 210 clusters\n",
      "fitting 220 clusters\n",
      "fitting 230 clusters\n",
      "fitting 240 clusters\n",
      "fitting 250 clusters\n",
      "fitting 260 clusters\n",
      "fitting 270 clusters\n",
      "fitting 280 clusters\n",
      "fitting 290 clusters\n",
      "fitting 300 clusters\n",
      "fitting 310 clusters\n",
      "fitting 320 clusters\n",
      "fitting 330 clusters\n",
      "fitting 340 clusters\n",
      "fitting 350 clusters\n",
      "fitting 360 clusters\n",
      "fitting 370 clusters\n",
      "fitting 380 clusters\n",
      "fitting 390 clusters\n",
      "fitting 400 clusters\n",
      "fitting 410 clusters\n",
      "fitting 420 clusters\n",
      "step 2\n"
     ]
    }
   ],
   "source": [
    "f = fit_data(samples_temp[0])\n",
    "#s = list()\n",
    "#for i in samples_temp_2:\n",
    "#    s.append(fit_data(i))"
   ]
  },
  {
   "cell_type": "code",
   "execution_count": null,
   "metadata": {
    "collapsed": true
   },
   "outputs": [],
   "source": []
  }
 ],
 "metadata": {
  "kernelspec": {
   "display_name": "Python 2",
   "language": "python",
   "name": "python2"
  },
  "language_info": {
   "codemirror_mode": {
    "name": "ipython",
    "version": 2
   },
   "file_extension": ".py",
   "mimetype": "text/x-python",
   "name": "python",
   "nbconvert_exporter": "python",
   "pygments_lexer": "ipython2",
   "version": "2.7.10"
  }
 },
 "nbformat": 4,
 "nbformat_minor": 0
}
