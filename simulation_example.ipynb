{
 "cells": [
  {
   "cell_type": "markdown",
   "metadata": {},
   "source": [
    "# Example code to simulate data from the mixture models to validate pacemakers"
   ]
  },
  {
   "cell_type": "code",
   "execution_count": 1,
   "metadata": {
    "collapsed": true
   },
   "outputs": [],
   "source": [
    "import os, sys, re\n",
    "import pandas as pd\n",
    "import numpy as np\n",
    "from sklearn.decomposition import PCA\n",
    "from pylab import rcParams\n",
    "from sklearn import mixture\n",
    "import scipy.stats as sp\n",
    "from scipy.spatial import distance\n",
    "import scipy.stats as sc\n",
    "from GMM_trees import *\n",
    "import itertools"
   ]
  },
  {
   "cell_type": "code",
   "execution_count": 2,
   "metadata": {
    "collapsed": true
   },
   "outputs": [],
   "source": [
    "execfile('GMM_trees.py')"
   ]
  },
  {
   "cell_type": "markdown",
   "metadata": {},
   "source": [
    "## Asteraceae"
   ]
  },
  {
   "cell_type": "code",
   "execution_count": 4,
   "metadata": {
    "collapsed": false
   },
   "outputs": [
    {
     "name": "stdout",
     "output_type": "stream",
     "text": [
      "fitting 10 clusters\n",
      "fitting 20 clusters\n",
      "fitting 30 clusters\n",
      "fitting 40 clusters\n",
      "fitting 50 clusters\n",
      "fitting 60 clusters\n",
      "fitting 70 clusters\n",
      "  covariance_type          BIC  clusters_used  n_components\n",
      "0        diagonal  3727.706594              2             2\n",
      "1       spherical  3465.810761              3             3\n"
     ]
    }
   ],
   "source": [
    "aster_data = pd.DataFrame(rescale_data(np.array(pd.read_csv('asteraceae_matrix.csv'))))\n",
    "aster_VBGMM = fit_VBGMM(np.array(aster_data))\n",
    "print aster_VBGMM[2]"
   ]
  },
  {
   "cell_type": "markdown",
   "metadata": {},
   "source": [
    "Simulate 5 data sets from the model. In the paper, we fit 100, which is slow to run sequentially. With large numbers of simulations, I recommend parallelising the computations using the multiprocessing module."
   ]
  },
  {
   "cell_type": "code",
   "execution_count": 15,
   "metadata": {
    "collapsed": true
   },
   "outputs": [],
   "source": [
    "asteraceae_samples = simulate_data(aster_data, 3, 'spherical', 5)"
   ]
  },
  {
   "cell_type": "markdown",
   "metadata": {},
   "source": [
    "Fit the models to the simulated data sets"
   ]
  },
  {
   "cell_type": "code",
   "execution_count": 16,
   "metadata": {
    "collapsed": false
   },
   "outputs": [
    {
     "name": "stdout",
     "output_type": "stream",
     "text": [
      "fitting 10 clusters\n",
      "fitting 20 clusters\n",
      "fitting 30 clusters\n",
      "fitting 40 clusters\n",
      "fitting 50 clusters\n",
      "fitting 60 clusters\n",
      "fitting 70 clusters\n",
      "fitting data set 0\n",
      "fitting 10 clusters\n",
      "fitting 20 clusters\n",
      "fitting 30 clusters\n",
      "fitting 40 clusters\n",
      "fitting 50 clusters\n",
      "fitting 60 clusters\n",
      "fitting 70 clusters\n",
      "fitting data set 1\n",
      "fitting 10 clusters\n",
      "fitting 20 clusters\n",
      "fitting 30 clusters\n",
      "fitting 40 clusters\n",
      "fitting 50 clusters\n",
      "fitting 60 clusters\n",
      "fitting 70 clusters\n",
      "fitting data set 2\n",
      "fitting 10 clusters\n",
      "fitting 20 clusters\n",
      "fitting 30 clusters\n",
      "fitting 40 clusters\n",
      "fitting 50 clusters\n",
      "fitting 60 clusters\n",
      "fitting 70 clusters\n",
      "fitting data set 3\n",
      "fitting 10 clusters\n",
      "fitting 20 clusters\n",
      "fitting 30 clusters\n",
      "fitting 40 clusters\n",
      "fitting 50 clusters\n",
      "fitting 60 clusters\n",
      "fitting 70 clusters\n",
      "fitting data set 4\n"
     ]
    }
   ],
   "source": [
    "asteraceae_simulations_resuts = fit_sim_models(asteraceae_samples)"
   ]
  },
  {
   "cell_type": "code",
   "execution_count": 20,
   "metadata": {
    "collapsed": false
   },
   "outputs": [],
   "source": [
    "asteraceae_simulations_resuts.columns = ['best_model', 'n_components']"
   ]
  },
  {
   "cell_type": "markdown",
   "metadata": {},
   "source": [
    "**Table 1.** Simulation resutls for asteraceae The first column is the model chosen for each simulation replicate, and the second column is the number of components inferred"
   ]
  },
  {
   "cell_type": "code",
   "execution_count": 22,
   "metadata": {
    "collapsed": false
   },
   "outputs": [
    {
     "data": {
      "text/html": [
       "<div>\n",
       "<table border=\"1\" class=\"dataframe\">\n",
       "  <thead>\n",
       "    <tr style=\"text-align: right;\">\n",
       "      <th></th>\n",
       "      <th>best_model</th>\n",
       "      <th>n_components</th>\n",
       "    </tr>\n",
       "  </thead>\n",
       "  <tbody>\n",
       "    <tr>\n",
       "      <th>0</th>\n",
       "      <td>vbgmm_shperical</td>\n",
       "      <td>3</td>\n",
       "    </tr>\n",
       "    <tr>\n",
       "      <th>1</th>\n",
       "      <td>vbgmm_shperical</td>\n",
       "      <td>2</td>\n",
       "    </tr>\n",
       "    <tr>\n",
       "      <th>2</th>\n",
       "      <td>vbgmm_shperical</td>\n",
       "      <td>3</td>\n",
       "    </tr>\n",
       "    <tr>\n",
       "      <th>3</th>\n",
       "      <td>vbgmm_shperical</td>\n",
       "      <td>3</td>\n",
       "    </tr>\n",
       "    <tr>\n",
       "      <th>4</th>\n",
       "      <td>vbgmm_shperical</td>\n",
       "      <td>2</td>\n",
       "    </tr>\n",
       "  </tbody>\n",
       "</table>\n",
       "</div>"
      ],
      "text/plain": [
       "        best_model  n_components\n",
       "0  vbgmm_shperical             3\n",
       "1  vbgmm_shperical             2\n",
       "2  vbgmm_shperical             3\n",
       "3  vbgmm_shperical             3\n",
       "4  vbgmm_shperical             2"
      ]
     },
     "execution_count": 22,
     "metadata": {},
     "output_type": "execute_result"
    }
   ],
   "source": [
    "asteraceae_simulations_resuts"
   ]
  },
  {
   "cell_type": "code",
   "execution_count": null,
   "metadata": {
    "collapsed": true
   },
   "outputs": [],
   "source": []
  }
 ],
 "metadata": {
  "kernelspec": {
   "display_name": "Python 2",
   "language": "python",
   "name": "python2"
  },
  "language_info": {
   "codemirror_mode": {
    "name": "ipython",
    "version": 2
   },
   "file_extension": ".py",
   "mimetype": "text/x-python",
   "name": "python",
   "nbconvert_exporter": "python",
   "pygments_lexer": "ipython2",
   "version": "2.7.10"
  }
 },
 "nbformat": 4,
 "nbformat_minor": 0
}
