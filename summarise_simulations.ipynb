{
 "metadata": {
  "name": "",
  "signature": "sha256:8ba3d73ac0b162208879cae46547afbcb57f3e09247e7724d4342b8bf4b42b40"
 },
 "nbformat": 3,
 "nbformat_minor": 0,
 "worksheets": [
  {
   "cells": [
    {
     "cell_type": "code",
     "collapsed": false,
     "input": [
      "import re\n",
      "import numpy as np\n",
      "import pandas as pd\n",
      "from scipy import stats\n",
      "import matplotlib.pyplot as plt\n",
      "execfile('GMM_trees.py')\n",
      "%pylab inline"
     ],
     "language": "python",
     "metadata": {},
     "outputs": [
      {
       "output_type": "stream",
       "stream": "stdout",
       "text": [
        "Populating the interactive namespace from numpy and matplotlib\n"
       ]
      }
     ],
     "prompt_number": 95
    },
    {
     "cell_type": "code",
     "collapsed": false,
     "input": [
      "angiosperm_sims = pd.read_csv('angio_simulations.csv', index_col=0)\n",
      "poaceae_sims = pd.read_csv('poaceae_simulations.csv', index_col = 0)\n",
      "eudicot_sims = pd.read_csv('eudicot_simulations.csv', index_col = 0)\n",
      "asteracea_sims = pd.read_csv('asteraceae_simulations.csv', index_col = 0)\n",
      "rosids_sims = pd.read_csv('rosids_simulations.csv', index_col = 0)"
     ],
     "language": "python",
     "metadata": {},
     "outputs": [],
     "prompt_number": 14
    },
    {
     "cell_type": "code",
     "collapsed": false,
     "input": [
      "summary_frame = pd.DataFrame(np.empty(shape = (5, 5)))\n",
      "summary_frame.columns = ['data_set', 'model_mode', 'model_prob', 'k_mode', 'k_prob']\n",
      "summary_frame.head()"
     ],
     "language": "python",
     "metadata": {},
     "outputs": [
      {
       "html": [
        "<div style=\"max-height:1000px;max-width:1500px;overflow:auto;\">\n",
        "<table border=\"1\" class=\"dataframe\">\n",
        "  <thead>\n",
        "    <tr style=\"text-align: right;\">\n",
        "      <th></th>\n",
        "      <th>data_set</th>\n",
        "      <th>model_mode</th>\n",
        "      <th>model_prob</th>\n",
        "      <th>k_mode</th>\n",
        "      <th>k_prob</th>\n",
        "    </tr>\n",
        "  </thead>\n",
        "  <tbody>\n",
        "    <tr>\n",
        "      <th>0</th>\n",
        "      <td>0.000000e+00</td>\n",
        "      <td>0.000000e+00</td>\n",
        "      <td>2.194525e-314</td>\n",
        "      <td>2.194552e-314</td>\n",
        "      <td>2.194552e-314</td>\n",
        "    </tr>\n",
        "    <tr>\n",
        "      <th>1</th>\n",
        "      <td>2.194552e-314</td>\n",
        "      <td>2.194552e-314</td>\n",
        "      <td>2.194552e-314</td>\n",
        "      <td>2.194552e-314</td>\n",
        "      <td>2.194552e-314</td>\n",
        "    </tr>\n",
        "    <tr>\n",
        "      <th>2</th>\n",
        "      <td>2.194552e-314</td>\n",
        "      <td>2.194552e-314</td>\n",
        "      <td>2.194552e-314</td>\n",
        "      <td>2.194552e-314</td>\n",
        "      <td>2.194552e-314</td>\n",
        "    </tr>\n",
        "    <tr>\n",
        "      <th>3</th>\n",
        "      <td>2.194552e-314</td>\n",
        "      <td>2.194552e-314</td>\n",
        "      <td>2.194552e-314</td>\n",
        "      <td>2.194552e-314</td>\n",
        "      <td>2.194552e-314</td>\n",
        "    </tr>\n",
        "    <tr>\n",
        "      <th>4</th>\n",
        "      <td>2.194552e-314</td>\n",
        "      <td>2.194552e-314</td>\n",
        "      <td>2.194553e-314</td>\n",
        "      <td>2.194553e-314</td>\n",
        "      <td>2.194553e-314</td>\n",
        "    </tr>\n",
        "  </tbody>\n",
        "</table>\n",
        "</div>"
       ],
       "metadata": {},
       "output_type": "pyout",
       "prompt_number": 46,
       "text": [
        "        data_set     model_mode     model_prob         k_mode         k_prob\n",
        "0   0.000000e+00   0.000000e+00  2.194525e-314  2.194552e-314  2.194552e-314\n",
        "1  2.194552e-314  2.194552e-314  2.194552e-314  2.194552e-314  2.194552e-314\n",
        "2  2.194552e-314  2.194552e-314  2.194552e-314  2.194552e-314  2.194552e-314\n",
        "3  2.194552e-314  2.194552e-314  2.194552e-314  2.194552e-314  2.194552e-314\n",
        "4  2.194552e-314  2.194552e-314  2.194553e-314  2.194553e-314  2.194553e-314"
       ]
      }
     ],
     "prompt_number": 46
    },
    {
     "cell_type": "code",
     "collapsed": false,
     "input": [
      "summary_frame.ix[0, :] = unlist(['Angiosperms', get_mode(angiosperm_sims.ix[:,0]), get_mode(angiosperm_sims.ix[:, 1])])\n",
      "summary_frame.ix[1, :] = unlist(['Angiosperms', get_mode(poaceae_sims.ix[:, 0]), get_mode(poaceae_sims.ix[:, 1])])\n",
      "summary_frame.ix[2, :] = unlist(['Eudicots', get_mode(eudicot_sims.ix[:,0]), get_mode(eudicot_sims.ix[:, 1])])\n",
      "summary_frame.ix[3, :] = unlist(['Asteraceae', get_mode(asteracea_sims.ix[:,0]), get_mode(asteracea_sims.ix[:,1])])\n",
      "summary_frame.ix[4, :] = unlist(['rosids', get_mode(rosids_sims.ix[:, 0]), get_mode(rosids_sims.ix[:, 1])])\n"
     ],
     "language": "python",
     "metadata": {},
     "outputs": [],
     "prompt_number": 99
    },
    {
     "cell_type": "code",
     "collapsed": false,
     "input": [
      "summary_frame"
     ],
     "language": "python",
     "metadata": {},
     "outputs": [
      {
       "html": [
        "<div style=\"max-height:1000px;max-width:1500px;overflow:auto;\">\n",
        "<table border=\"1\" class=\"dataframe\">\n",
        "  <thead>\n",
        "    <tr style=\"text-align: right;\">\n",
        "      <th></th>\n",
        "      <th>data_set</th>\n",
        "      <th>model_mode</th>\n",
        "      <th>model_prob</th>\n",
        "      <th>k_mode</th>\n",
        "      <th>k_prob</th>\n",
        "    </tr>\n",
        "  </thead>\n",
        "  <tbody>\n",
        "    <tr>\n",
        "      <th>0</th>\n",
        "      <td>Angiosperms</td>\n",
        "      <td>vbgmm_shperical</td>\n",
        "      <td>1</td>\n",
        "      <td>1</td>\n",
        "      <td>1.0</td>\n",
        "    </tr>\n",
        "    <tr>\n",
        "      <th>1</th>\n",
        "      <td>Angiosperms</td>\n",
        "      <td>vbgmm_shperical</td>\n",
        "      <td>1</td>\n",
        "      <td>2</td>\n",
        "      <td>1.0</td>\n",
        "    </tr>\n",
        "    <tr>\n",
        "      <th>2</th>\n",
        "      <td>Eudicots</td>\n",
        "      <td>vbgmm_shperical</td>\n",
        "      <td>1</td>\n",
        "      <td>2</td>\n",
        "      <td>1.0</td>\n",
        "    </tr>\n",
        "    <tr>\n",
        "      <th>3</th>\n",
        "      <td>Asteraceae</td>\n",
        "      <td>vbgmm_shperical</td>\n",
        "      <td>1</td>\n",
        "      <td>3</td>\n",
        "      <td>0.6</td>\n",
        "    </tr>\n",
        "    <tr>\n",
        "      <th>4</th>\n",
        "      <td>rosids</td>\n",
        "      <td>vbgmm_shperical</td>\n",
        "      <td>1</td>\n",
        "      <td>2</td>\n",
        "      <td>0.9</td>\n",
        "    </tr>\n",
        "  </tbody>\n",
        "</table>\n",
        "</div>"
       ],
       "metadata": {},
       "output_type": "pyout",
       "prompt_number": 100,
       "text": [
        "      data_set       model_mode  model_prob  k_mode  k_prob\n",
        "0  Angiosperms  vbgmm_shperical           1       1     1.0\n",
        "1  Angiosperms  vbgmm_shperical           1       2     1.0\n",
        "2     Eudicots  vbgmm_shperical           1       2     1.0\n",
        "3   Asteraceae  vbgmm_shperical           1       3     0.6\n",
        "4       rosids  vbgmm_shperical           1       2     0.9"
       ]
      }
     ],
     "prompt_number": 100
    },
    {
     "cell_type": "code",
     "collapsed": false,
     "input": [
      "summary_frame.to_csv('summary_simulations.csv')"
     ],
     "language": "python",
     "metadata": {},
     "outputs": [],
     "prompt_number": 101
    },
    {
     "cell_type": "code",
     "collapsed": false,
     "input": [],
     "language": "python",
     "metadata": {},
     "outputs": []
    }
   ],
   "metadata": {}
  }
 ]
}