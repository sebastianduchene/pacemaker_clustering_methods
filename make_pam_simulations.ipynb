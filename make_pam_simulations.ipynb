{
 "cells": [
  {
   "cell_type": "code",
   "execution_count": 5,
   "metadata": {
    "collapsed": false
   },
   "outputs": [
    {
     "name": "stdout",
     "output_type": "stream",
     "text": [
      "Populating the interactive namespace from numpy and matplotlib\n"
     ]
    },
    {
     "name": "stderr",
     "output_type": "stream",
     "text": [
      "WARNING: pylab import has clobbered these variables: ['pylab']\n",
      "`%matplotlib` prevents importing * from pylab and numpy\n"
     ]
    }
   ],
   "source": [
    "import os, sys, re\n",
    "import pandas as pd\n",
    "import numpy as np\n",
    "from sklearn.decomposition import PCA\n",
    "import matplotlib.pyplot as plt\n",
    "import pylab\n",
    "from pylab import rcParams\n",
    "from sklearn import mixture\n",
    "import scipy.stats as sp\n",
    "from mpl_toolkits.mplot3d import Axes3D\n",
    "from scipy.spatial import distance\n",
    "import scipy.stats as sc\n",
    "from GMM_trees import *\n",
    "import itertools\n",
    "%pylab inline\n",
    "pylab.rcParams['figure.figsize'] = (20, 5)"
   ]
  },
  {
   "cell_type": "code",
   "execution_count": 6,
   "metadata": {
    "collapsed": false
   },
   "outputs": [],
   "source": [
    "execfile('GMM_trees.py')"
   ]
  },
  {
   "cell_type": "code",
   "execution_count": 7,
   "metadata": {
    "collapsed": false
   },
   "outputs": [
    {
     "name": "stdout",
     "output_type": "stream",
     "text": [
      "fitting 10 clusters\n",
      "fitting 20 clusters\n",
      "fitting 30 clusters\n",
      "fitting 40 clusters\n",
      "fitting 50 clusters\n",
      "fitting 60 clusters\n",
      "fitting 70 clusters\n"
     ]
    },
    {
     "name": "stderr",
     "output_type": "stream",
     "text": [
      "/Users/sebastianducheneAIr/ipykernel/ipykernel/__main__.py:106: DeprecationWarning: converting an array with ndim > 0 to an index will result in an error in the future\n",
      "/Users/sebastianducheneAIr/ipykernel/ipykernel/__main__.py:107: DeprecationWarning: converting an array with ndim > 0 to an index will result in an error in the future\n",
      "/Users/sebastianducheneAIr/ipykernel/ipykernel/__main__.py:111: DeprecationWarning: converting an array with ndim > 0 to an index will result in an error in the future\n"
     ]
    }
   ],
   "source": [
    "# Angiosperm \n",
    "angio_dat = pd.DataFrame(rescale_data(np.array(pd.read_csv('angiosperm_matrix.csv'))))\n",
    "#angio_dat.transpose().plot(legend = False, linewidth = 3,alpha = 0.5)\n",
    "angio_vbgmm1 = fit_VBGMM(np.array(angio_dat))"
   ]
  },
  {
   "cell_type": "code",
   "execution_count": 8,
   "metadata": {
    "collapsed": false
   },
   "outputs": [
    {
     "data": {
      "text/plain": [
       "[VBGMM(alpha=0.5, covariance_type='diag', init_params='wmc', min_covar=None,\n",
       "    n_components=2, n_iter=1000, params='wmc', random_state=None,\n",
       "    thresh=None, tol=0.001, verbose=False),\n",
       " VBGMM(alpha=1.0, covariance_type='spherical', init_params='wmc',\n",
       "    min_covar=None, n_components=1, n_iter=1000, params='wmc',\n",
       "    random_state=None, thresh=None, tol=0.001, verbose=False),\n",
       "   covariance_type           BIC  clusters_used  n_components\n",
       " 0        diagonal  10125.769919              2             2\n",
       " 1       spherical   9474.194773              1             1]"
      ]
     },
     "execution_count": 8,
     "metadata": {},
     "output_type": "execute_result"
    }
   ],
   "source": [
    "angio_vbgmm1"
   ]
  },
  {
   "cell_type": "markdown",
   "metadata": {},
   "source": [
    "- Get means for each dimension, data points that belong to each cluster. "
   ]
  },
  {
   "cell_type": "code",
   "execution_count": 9,
   "metadata": {
    "collapsed": false
   },
   "outputs": [],
   "source": [
    "execfile('GMM_trees.py')\n",
    "angio_sims = make_pam_sims(data = angio_dat, model = angio_vbgmm1[1], reps = 100)"
   ]
  },
  {
   "cell_type": "code",
   "execution_count": 10,
   "metadata": {
    "collapsed": false
   },
   "outputs": [
    {
     "data": {
      "text/plain": [
       "<matplotlib.collections.PathCollection at 0x10922c6d0>"
      ]
     },
     "execution_count": 10,
     "metadata": {},
     "output_type": "execute_result"
    },
    {
     "data": {
      "image/png": "[encoded data removed]",
      "text/plain": [
       "<matplotlib.figure.Figure at 0x10904e510>"
      ]
     },
     "metadata": {},
     "output_type": "display_data"
    }
   ],
   "source": [
    "plt.scatter(angio_sims[0].ix[:, 0], angio_sims[0].ix[:, 4])"
   ]
  },
  {
   "cell_type": "code",
   "execution_count": 11,
   "metadata": {
    "collapsed": false
   },
   "outputs": [],
   "source": [
    "for r in enumerate(angio_sims):\n",
    "    r[1].to_csv('sim_pam_angio/sim_'+str(r[0])+'.csv')"
   ]
  },
  {
   "cell_type": "code",
   "execution_count": null,
   "metadata": {
    "collapsed": true
   },
   "outputs": [],
   "source": []
  },
  {
   "cell_type": "code",
   "execution_count": 12,
   "metadata": {
    "collapsed": false
   },
   "outputs": [
    {
     "name": "stdout",
     "output_type": "stream",
     "text": [
      "fitting 10 clusters\n",
      "fitting 20 clusters\n",
      "fitting 30 clusters\n",
      "fitting 40 clusters\n",
      "fitting 50 clusters\n"
     ]
    },
    {
     "name": "stderr",
     "output_type": "stream",
     "text": [
      "/Users/sebastianducheneAIr/ipykernel/ipykernel/__main__.py:106: DeprecationWarning: converting an array with ndim > 0 to an index will result in an error in the future\n",
      "/Users/sebastianducheneAIr/ipykernel/ipykernel/__main__.py:107: DeprecationWarning: converting an array with ndim > 0 to an index will result in an error in the future\n",
      "/Users/sebastianducheneAIr/ipykernel/ipykernel/__main__.py:111: DeprecationWarning: converting an array with ndim > 0 to an index will result in an error in the future\n"
     ]
    },
    {
     "data": {
      "text/plain": [
       "[VBGMM(alpha=0.5, covariance_type='diag', init_params='wmc', min_covar=None,\n",
       "    n_components=2, n_iter=1000, params='wmc', random_state=None,\n",
       "    thresh=None, tol=0.001, verbose=False),\n",
       " VBGMM(alpha=0.5, covariance_type='spherical', init_params='wmc',\n",
       "    min_covar=None, n_components=2, n_iter=1000, params='wmc',\n",
       "    random_state=None, thresh=None, tol=0.001, verbose=False),\n",
       "   covariance_type          BIC  clusters_used  n_components\n",
       " 0        diagonal  9856.718100              2             2\n",
       " 1       spherical  9191.580371              2             2]"
      ]
     },
     "execution_count": 12,
     "metadata": {},
     "output_type": "execute_result"
    }
   ],
   "source": [
    "poac_data = pd.DataFrame(rescale_data(np.array(pd.read_csv('poaceae_matrix.csv'))))\n",
    "poac_VBGMM = fit_VBGMM(np.array(poac_data))\n",
    "poac_VBGMM"
   ]
  },
  {
   "cell_type": "code",
   "execution_count": 13,
   "metadata": {
    "collapsed": false
   },
   "outputs": [],
   "source": [
    "\n",
    "poac_sims = make_pam_sims(data = poac_data, model = poac_VBGMM[1], reps = 100)"
   ]
  },
  {
   "cell_type": "code",
   "execution_count": 14,
   "metadata": {
    "collapsed": false
   },
   "outputs": [],
   "source": [
    "for r in enumerate(poac_sims):\n",
    "    r[1].to_csv('sim_pam_poac/sim_'+str(r[0])+'.csv')"
   ]
  },
  {
   "cell_type": "code",
   "execution_count": 15,
   "metadata": {
    "collapsed": false
   },
   "outputs": [
    {
     "data": {
      "text/plain": [
       "<matplotlib.collections.PathCollection at 0x109aea5d0>"
      ]
     },
     "execution_count": 15,
     "metadata": {},
     "output_type": "execute_result"
    },
    {
     "data": {
      "image/png": "[encoded data removed]",
      "text/plain": [
       "<matplotlib.figure.Figure at 0x10949d950>"
      ]
     },
     "metadata": {},
     "output_type": "display_data"
    }
   ],
   "source": [
    "plt.scatter(poac_sims[4].ix[:, 3], poac_sims[4].ix[:, 30])"
   ]
  },
  {
   "cell_type": "code",
   "execution_count": 16,
   "metadata": {
    "collapsed": false
   },
   "outputs": [
    {
     "name": "stdout",
     "output_type": "stream",
     "text": [
      "fitting 10 clusters\n",
      "fitting 20 clusters\n",
      "fitting 30 clusters\n",
      "fitting 40 clusters\n",
      "fitting 50 clusters\n",
      "fitting 60 clusters\n",
      "fitting 70 clusters\n"
     ]
    },
    {
     "name": "stderr",
     "output_type": "stream",
     "text": [
      "/Users/sebastianducheneAIr/ipykernel/ipykernel/__main__.py:106: DeprecationWarning: converting an array with ndim > 0 to an index will result in an error in the future\n",
      "/Users/sebastianducheneAIr/ipykernel/ipykernel/__main__.py:107: DeprecationWarning: converting an array with ndim > 0 to an index will result in an error in the future\n",
      "/Users/sebastianducheneAIr/ipykernel/ipykernel/__main__.py:111: DeprecationWarning: converting an array with ndim > 0 to an index will result in an error in the future\n"
     ]
    },
    {
     "data": {
      "text/plain": [
       "[VBGMM(alpha=0.5, covariance_type='diag', init_params='wmc', min_covar=None,\n",
       "    n_components=2, n_iter=1000, params='wmc', random_state=None,\n",
       "    thresh=None, tol=0.001, verbose=False),\n",
       " VBGMM(alpha=0.333333333333, covariance_type='spherical', init_params='wmc',\n",
       "    min_covar=None, n_components=3, n_iter=1000, params='wmc',\n",
       "    random_state=None, thresh=None, tol=0.001, verbose=False),\n",
       "   covariance_type          BIC  clusters_used  n_components\n",
       " 0        diagonal  3728.271413              2             2\n",
       " 1       spherical  3465.819914              3             3]"
      ]
     },
     "execution_count": 16,
     "metadata": {},
     "output_type": "execute_result"
    }
   ],
   "source": [
    "aster_data = pd.DataFrame(rescale_data(np.array(pd.read_csv('asteraceae_matrix.csv'))))\n",
    "aster_VBGMM = fit_VBGMM(np.array(aster_data))\n",
    "aster_VBGMM"
   ]
  },
  {
   "cell_type": "code",
   "execution_count": 17,
   "metadata": {
    "collapsed": false
   },
   "outputs": [],
   "source": [
    "aster_sims = make_pam_sims(aster_data, aster_VBGMM[1], reps = 100)"
   ]
  },
  {
   "cell_type": "code",
   "execution_count": 18,
   "metadata": {
    "collapsed": false
   },
   "outputs": [
    {
     "name": "stdout",
     "output_type": "stream",
     "text": [
      "100\n"
     ]
    },
    {
     "data": {
      "text/plain": [
       "<matplotlib.collections.PathCollection at 0x109ce3990>"
      ]
     },
     "execution_count": 18,
     "metadata": {},
     "output_type": "execute_result"
    },
    {
     "data": {
      "image/png": "[encoded data removed]",
      "text/plain": [
       "<matplotlib.figure.Figure at 0x109a6b090>"
      ]
     },
     "metadata": {},
     "output_type": "display_data"
    }
   ],
   "source": [
    "print len(aster_sims)\n",
    "plt.scatter(aster_sims[3].ix[:, 2], aster_sims[3].ix[:, 5])"
   ]
  },
  {
   "cell_type": "code",
   "execution_count": 19,
   "metadata": {
    "collapsed": false
   },
   "outputs": [],
   "source": [
    "for r in enumerate(aster_sims):\n",
    "    r[1].to_csv('sim_pam_aster/sim_'+str(r[0])+'.csv')"
   ]
  },
  {
   "cell_type": "code",
   "execution_count": null,
   "metadata": {
    "collapsed": true
   },
   "outputs": [],
   "source": []
  },
  {
   "cell_type": "code",
   "execution_count": 20,
   "metadata": {
    "collapsed": false
   },
   "outputs": [
    {
     "name": "stdout",
     "output_type": "stream",
     "text": [
      "fitting 10 clusters\n",
      "fitting 20 clusters\n",
      "fitting 30 clusters\n",
      "fitting 40 clusters\n",
      "fitting 50 clusters\n",
      "fitting 60 clusters\n",
      "fitting 70 clusters\n"
     ]
    },
    {
     "name": "stderr",
     "output_type": "stream",
     "text": [
      "/Users/sebastianducheneAIr/ipykernel/ipykernel/__main__.py:106: DeprecationWarning: converting an array with ndim > 0 to an index will result in an error in the future\n",
      "/Users/sebastianducheneAIr/ipykernel/ipykernel/__main__.py:107: DeprecationWarning: converting an array with ndim > 0 to an index will result in an error in the future\n",
      "/Users/sebastianducheneAIr/ipykernel/ipykernel/__main__.py:111: DeprecationWarning: converting an array with ndim > 0 to an index will result in an error in the future\n"
     ]
    },
    {
     "data": {
      "text/plain": [
       "[VBGMM(alpha=0.5, covariance_type='diag', init_params='wmc', min_covar=None,\n",
       "    n_components=2, n_iter=1000, params='wmc', random_state=None,\n",
       "    thresh=None, tol=0.001, verbose=False),\n",
       " VBGMM(alpha=0.5, covariance_type='spherical', init_params='wmc',\n",
       "    min_covar=None, n_components=2, n_iter=1000, params='wmc',\n",
       "    random_state=None, thresh=None, tol=0.001, verbose=False),\n",
       "   covariance_type          BIC  clusters_used  n_components\n",
       " 0        diagonal  8520.119843              2             2\n",
       " 1       spherical  7656.909635              2             2]"
      ]
     },
     "execution_count": 20,
     "metadata": {},
     "output_type": "execute_result"
    }
   ],
   "source": [
    "eudicot_dat = pd.DataFrame(rescale_data(np.array(pd.read_csv('eudicot_matrix.csv'))))\n",
    "eudicot_VBGMM = fit_VBGMM(np.array(eudicot_dat))\n",
    "eudicot_VBGMM"
   ]
  },
  {
   "cell_type": "code",
   "execution_count": 21,
   "metadata": {
    "collapsed": true
   },
   "outputs": [],
   "source": [
    "eudicot_sims = make_pam_sims(eudicot_dat, eudicot_VBGMM[1], 100)"
   ]
  },
  {
   "cell_type": "code",
   "execution_count": 22,
   "metadata": {
    "collapsed": false
   },
   "outputs": [
    {
     "name": "stdout",
     "output_type": "stream",
     "text": [
      "100\n"
     ]
    },
    {
     "data": {
      "text/plain": [
       "<matplotlib.collections.PathCollection at 0x109ebea90>"
      ]
     },
     "execution_count": 22,
     "metadata": {},
     "output_type": "execute_result"
    },
    {
     "data": {
      "image/png": "[encoded data removed]",
      "text/plain": [
       "<matplotlib.figure.Figure at 0x109a36810>"
      ]
     },
     "metadata": {},
     "output_type": "display_data"
    }
   ],
   "source": [
    "print len(eudicot_sims)\n",
    "plt.scatter(eudicot_sims[0].ix[:, 1], eudicot_sims[0].ix[:, 5])"
   ]
  },
  {
   "cell_type": "code",
   "execution_count": 23,
   "metadata": {
    "collapsed": true
   },
   "outputs": [],
   "source": [
    "for r in enumerate(eudicot_sims):\n",
    "    r[1].to_csv('sim_pam_eudicot/sim_'+str(r[0])+'.csv')"
   ]
  },
  {
   "cell_type": "code",
   "execution_count": null,
   "metadata": {
    "collapsed": true
   },
   "outputs": [],
   "source": []
  },
  {
   "cell_type": "code",
   "execution_count": 24,
   "metadata": {
    "collapsed": false
   },
   "outputs": [
    {
     "name": "stdout",
     "output_type": "stream",
     "text": [
      "fitting 10 clusters\n",
      "fitting 20 clusters\n",
      "fitting 30 clusters\n",
      "fitting 40 clusters\n",
      "fitting 50 clusters\n",
      "fitting 60 clusters\n",
      "fitting 70 clusters\n"
     ]
    },
    {
     "name": "stderr",
     "output_type": "stream",
     "text": [
      "/Users/sebastianducheneAIr/ipykernel/ipykernel/__main__.py:106: DeprecationWarning: converting an array with ndim > 0 to an index will result in an error in the future\n",
      "/Users/sebastianducheneAIr/ipykernel/ipykernel/__main__.py:107: DeprecationWarning: converting an array with ndim > 0 to an index will result in an error in the future\n",
      "/Users/sebastianducheneAIr/ipykernel/ipykernel/__main__.py:111: DeprecationWarning: converting an array with ndim > 0 to an index will result in an error in the future\n"
     ]
    },
    {
     "data": {
      "text/plain": [
       "[VBGMM(alpha=0.5, covariance_type='diag', init_params='wmc', min_covar=None,\n",
       "    n_components=2, n_iter=1000, params='wmc', random_state=None,\n",
       "    thresh=None, tol=0.001, verbose=False),\n",
       " VBGMM(alpha=0.2, covariance_type='spherical', init_params='wmc',\n",
       "    min_covar=None, n_components=5, n_iter=1000, params='wmc',\n",
       "    random_state=None, thresh=None, tol=0.001, verbose=False),\n",
       "   covariance_type          BIC  clusters_used  n_components\n",
       " 0        diagonal  7218.579209              2             2\n",
       " 1       spherical  6325.082490              4             5]"
      ]
     },
     "execution_count": 24,
     "metadata": {},
     "output_type": "execute_result"
    }
   ],
   "source": [
    "rosids_data = pd.DataFrame(rescale_data(np.array(pd.read_csv('rosids_matrix.csv'))))\n",
    "rosids_VBGMM = fit_VBGMM(rosids_data)\n",
    "rosids_VBGMM"
   ]
  },
  {
   "cell_type": "code",
   "execution_count": 25,
   "metadata": {
    "collapsed": false
   },
   "outputs": [],
   "source": [
    "rosids_sims = make_pam_sims(rosids_data, rosids_VBGMM[1], 100)"
   ]
  },
  {
   "cell_type": "code",
   "execution_count": 26,
   "metadata": {
    "collapsed": false
   },
   "outputs": [
    {
     "data": {
      "text/plain": [
       "<matplotlib.collections.PathCollection at 0x109f2a690>"
      ]
     },
     "execution_count": 26,
     "metadata": {},
     "output_type": "execute_result"
    },
    {
     "data": {
      "image/png": "[encoded data removed]",
      "text/plain": [
       "<matplotlib.figure.Figure at 0x10b491250>"
      ]
     },
     "metadata": {},
     "output_type": "display_data"
    }
   ],
   "source": [
    "plt.scatter(rosids_sims[10].ix[:, 12], rosids_sims[10].ix[:, 11])"
   ]
  },
  {
   "cell_type": "code",
   "execution_count": 27,
   "metadata": {
    "collapsed": true
   },
   "outputs": [],
   "source": [
    "for r in enumerate(rosids_sims):\n",
    "    r[1].to_csv('sim_pam_rosids/sim_'+str(r[0])+'.csv')"
   ]
  },
  {
   "cell_type": "code",
   "execution_count": null,
   "metadata": {
    "collapsed": true
   },
   "outputs": [],
   "source": []
  },
  {
   "cell_type": "code",
   "execution_count": 28,
   "metadata": {
    "collapsed": false
   },
   "outputs": [
    {
     "ename": "NameError",
     "evalue": "name 'fit_data' is not defined",
     "output_type": "error",
     "traceback": [
      "\u001b[0;31m---------------------------------------------------------------------------\u001b[0m",
      "\u001b[0;31mNameError\u001b[0m                                 Traceback (most recent call last)",
      "\u001b[0;32m<ipython-input-28-411e2c5b5018>\u001b[0m in \u001b[0;36m<module>\u001b[0;34m()\u001b[0m\n\u001b[0;32m----> 1\u001b[0;31m \u001b[0mwow\u001b[0m \u001b[0;34m=\u001b[0m \u001b[0mfit_data\u001b[0m\u001b[0;34m(\u001b[0m\u001b[0mrosids_sims\u001b[0m\u001b[0;34m[\u001b[0m\u001b[0;36m0\u001b[0m\u001b[0;34m]\u001b[0m\u001b[0;34m)\u001b[0m\u001b[0;34m\u001b[0m\u001b[0m\n\u001b[0m",
      "\u001b[0;31mNameError\u001b[0m: name 'fit_data' is not defined"
     ]
    }
   ],
   "source": [
    "wow = fit_data(rosids_sims[0])"
   ]
  },
  {
   "cell_type": "code",
   "execution_count": null,
   "metadata": {
    "collapsed": false
   },
   "outputs": [],
   "source": [
    "import multiprocessing\n",
    "from multiprocessing import Pool"
   ]
  },
  {
   "cell_type": "code",
   "execution_count": null,
   "metadata": {
    "collapsed": false
   },
   "outputs": [],
   "source": [
    "execfile('analyse_pam_runs.py')"
   ]
  },
  {
   "cell_type": "code",
   "execution_count": 44,
   "metadata": {
    "collapsed": false
   },
   "outputs": [
    {
     "data": {
      "text/html": [
       "<div>\n",
       "<table border=\"1\" class=\"dataframe\">\n",
       "  <thead>\n",
       "    <tr style=\"text-align: right;\">\n",
       "      <th></th>\n",
       "      <th>0</th>\n",
       "      <th>1</th>\n",
       "    </tr>\n",
       "  </thead>\n",
       "  <tbody>\n",
       "    <tr>\n",
       "      <th>0</th>\n",
       "      <td>vbgmm_shperical</td>\n",
       "      <td>2</td>\n",
       "    </tr>\n",
       "    <tr>\n",
       "      <th>1</th>\n",
       "      <td>vbgmm_shperical</td>\n",
       "      <td>2</td>\n",
       "    </tr>\n",
       "    <tr>\n",
       "      <th>2</th>\n",
       "      <td>vbgmm_shperical</td>\n",
       "      <td>2</td>\n",
       "    </tr>\n",
       "    <tr>\n",
       "      <th>3</th>\n",
       "      <td>vbgmm_shperical</td>\n",
       "      <td>2</td>\n",
       "    </tr>\n",
       "    <tr>\n",
       "      <th>4</th>\n",
       "      <td>vbgmm_shperical</td>\n",
       "      <td>2</td>\n",
       "    </tr>\n",
       "    <tr>\n",
       "      <th>5</th>\n",
       "      <td>vbgmm_shperical</td>\n",
       "      <td>2</td>\n",
       "    </tr>\n",
       "    <tr>\n",
       "      <th>6</th>\n",
       "      <td>vbgmm_shperical</td>\n",
       "      <td>2</td>\n",
       "    </tr>\n",
       "    <tr>\n",
       "      <th>7</th>\n",
       "      <td>vbgmm_shperical</td>\n",
       "      <td>2</td>\n",
       "    </tr>\n",
       "    <tr>\n",
       "      <th>8</th>\n",
       "      <td>vbgmm_shperical</td>\n",
       "      <td>2</td>\n",
       "    </tr>\n",
       "    <tr>\n",
       "      <th>9</th>\n",
       "      <td>vbgmm_shperical</td>\n",
       "      <td>2</td>\n",
       "    </tr>\n",
       "  </tbody>\n",
       "</table>\n",
       "</div>"
      ],
      "text/plain": [
       "                 0  1\n",
       "0  vbgmm_shperical  2\n",
       "1  vbgmm_shperical  2\n",
       "2  vbgmm_shperical  2\n",
       "3  vbgmm_shperical  2\n",
       "4  vbgmm_shperical  2\n",
       "5  vbgmm_shperical  2\n",
       "6  vbgmm_shperical  2\n",
       "7  vbgmm_shperical  2\n",
       "8  vbgmm_shperical  2\n",
       "9  vbgmm_shperical  2"
      ]
     },
     "execution_count": 44,
     "metadata": {},
     "output_type": "execute_result"
    }
   ],
   "source": [
    "pd.DataFrame(s)"
   ]
  },
  {
   "cell_type": "code",
   "execution_count": null,
   "metadata": {
    "collapsed": false
   },
   "outputs": [],
   "source": [
    "\n"
   ]
  },
  {
   "cell_type": "code",
   "execution_count": null,
   "metadata": {
    "collapsed": false
   },
   "outputs": [],
   "source": []
  },
  {
   "cell_type": "code",
   "execution_count": null,
   "metadata": {
    "collapsed": false
   },
   "outputs": [],
   "source": []
  },
  {
   "cell_type": "code",
   "execution_count": null,
   "metadata": {
    "collapsed": true
   },
   "outputs": [],
   "source": []
  }
 ],
 "metadata": {
  "kernelspec": {
   "display_name": "Python 2",
   "language": "python",
   "name": "python2"
  },
  "language_info": {
   "codemirror_mode": {
    "name": "ipython",
    "version": 2
   },
   "file_extension": ".py",
   "mimetype": "text/x-python",
   "name": "python",
   "nbconvert_exporter": "python",
   "pygments_lexer": "ipython2",
   "version": "2.7.10"
  }
 },
 "nbformat": 4,
 "nbformat_minor": 0
}
