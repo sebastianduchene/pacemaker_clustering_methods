{
 "cells": [
  {
   "cell_type": "code",
   "execution_count": 1,
   "metadata": {
    "collapsed": false
   },
   "outputs": [
    {
     "name": "stdout",
     "output_type": "stream",
     "text": [
      "Populating the interactive namespace from numpy and matplotlib\n"
     ]
    },
    {
     "name": "stderr",
     "output_type": "stream",
     "text": [
      "WARNING: pylab import has clobbered these variables: ['pylab']\n",
      "`%matplotlib` prevents importing * from pylab and numpy\n"
     ]
    }
   ],
   "source": [
    "import os, sys, re\n",
    "import pandas as pd\n",
    "import numpy as np\n",
    "from sklearn.decomposition import PCA\n",
    "import matplotlib.pyplot as plt\n",
    "import pylab\n",
    "from pylab import rcParams\n",
    "from sklearn import mixture\n",
    "import scipy.stats as sp\n",
    "from mpl_toolkits.mplot3d import Axes3D\n",
    "from scipy.spatial import distance\n",
    "import scipy.stats as sc\n",
    "from GMM_trees import *\n",
    "import itertools\n",
    "import multiprocessing\n",
    "from multiprocessing import Pool\n",
    "%pylab inline\n",
    "pylab.rcParams['figure.figsize'] = (20, 5)"
   ]
  },
  {
   "cell_type": "code",
   "execution_count": 2,
   "metadata": {
    "collapsed": true
   },
   "outputs": [],
   "source": [
    "execfile('GMM_trees.py')"
   ]
  },
  {
   "cell_type": "code",
   "execution_count": 3,
   "metadata": {
    "collapsed": true
   },
   "outputs": [],
   "source": [
    "def fit_sim_models(simulated_data):\n",
    "\n",
    "    def fit_data(i):\n",
    "        fit_temp_vbgmm = fit_VBGMM(simulated_data[i])\n",
    "        fit_temp_dpp = fit_DPGMM(simulated_data[i])\n",
    "    \n",
    "        run_models = unlist([fit_temp_vbgmm[:2], fit_temp_dpp[:2]])\n",
    "        models_order = np.hstack([fit_temp_vbgmm[2]['BIC'], fit_temp_dpp[2]['BIC']]).argsort()\n",
    "        best_model = run_models[models_order[0]]\n",
    "\n",
    "        k_best_model = len(set(best_model.predict(simulated_data[i])))\n",
    "        name_best_model = ['vbgmm_diag', 'vbgmm_shperical', 'dpp_diag', 'dpp_spherical'][models_order[0]]\n",
    "    \n",
    "        return [name_best_model, k_best_model]\n",
    "\n",
    "    p = Pool(6)\n",
    "    i_s = [x for x in range(len(simulated_data))]\n",
    "    out = p.map(fit_data, i_s)\n",
    "\n",
    "    return out"
   ]
  },
  {
   "cell_type": "code",
   "execution_count": 4,
   "metadata": {
    "collapsed": false
   },
   "outputs": [
    {
     "name": "stdout",
     "output_type": "stream",
     "text": [
      "fitting 10 clusters\n",
      "fitting 20 clusters\n",
      "fitting 30 clusters\n",
      "fitting 40 clusters\n",
      "fitting 50 clusters\n",
      "  covariance_type          BIC  clusters_used  n_components\n",
      "0        diagonal  9856.718100              2             2\n",
      "1       spherical  9191.580371              2             2\n",
      "  covariance_type           BIC  clusters_used  n_components\n",
      "0        diagonal  28274.255774              1            60\n",
      "1       spherical  18606.055093              2            60\n"
     ]
    },
    {
     "name": "stderr",
     "output_type": "stream",
     "text": [
      "/Users/sebastianducheneAIr/ipykernel/ipykernel/__main__.py:106: DeprecationWarning: converting an array with ndim > 0 to an index will result in an error in the future\n",
      "/Users/sebastianducheneAIr/ipykernel/ipykernel/__main__.py:107: DeprecationWarning: converting an array with ndim > 0 to an index will result in an error in the future\n",
      "/Users/sebastianducheneAIr/ipykernel/ipykernel/__main__.py:111: DeprecationWarning: converting an array with ndim > 0 to an index will result in an error in the future\n"
     ]
    }
   ],
   "source": [
    "## Poacea data \n",
    "poac_data = pd.DataFrame(rescale_data(np.array(pd.read_csv('poaceae_matrix.csv'))))\n",
    "poac_VBGMM = fit_VBGMM(np.array(poac_data))\n",
    "poac_DPGMM = fit_DPGMM(np.array(poac_data))\n",
    "\n",
    "print poac_VBGMM[2]\n",
    "print poac_DPGMM[2]"
   ]
  },
  {
   "cell_type": "code",
   "execution_count": 5,
   "metadata": {
    "collapsed": false
   },
   "outputs": [],
   "source": [
    "samples_poaceae = simulate_data(poac_data, 2, 'spherical', 5)"
   ]
  },
  {
   "cell_type": "code",
   "execution_count": 6,
   "metadata": {
    "collapsed": false
   },
   "outputs": [],
   "source": [
    "def fit_data(s_data):\n",
    "    print 'step 1'\n",
    "    fit_temp_vbgmm = fit_VBGMM(s_data)\n",
    "    fit_temp_dpp = fit_DPGMM(s_data)\n",
    "    print 'step 2'\n",
    "    run_models = unlist([fit_temp_vbgmm[:2], fit_temp_dpp[:2]])\n",
    "    models_order = np.hstack([fit_temp_vbgmm[2]['BIC'], fit_temp_dpp[2]['BIC']]).argsort()\n",
    "    best_model = run_models[models_order[0]]\n",
    "\n",
    "    k_best_model = len(set(best_model.predict(s_data)))\n",
    "    name_best_model = ['vbgmm_diag', 'vbgmm_shperical', 'dpp_diag', 'dpp_spherical'][models_order[0]]\n",
    "    return [name_best_model, k_best_model]\n",
    "    \n",
    "#    p = Pool(6)\n",
    "#    i_s = [x for x in range(len(simulated_data))]\n",
    "#    out = p.map(fit_data, i_s)"
   ]
  },
  {
   "cell_type": "code",
   "execution_count": 8,
   "metadata": {
    "collapsed": false
   },
   "outputs": [
    {
     "name": "stdout",
     "output_type": "stream",
     "text": [
      "step 1\n",
      "fitting 10 clusters\n",
      "fitting 20 clusters\n",
      "fitting 30 clusters\n",
      "fitting 40 clusters\n",
      "fitting 50 clusters\n",
      "step 2\n"
     ]
    },
    {
     "name": "stderr",
     "output_type": "stream",
     "text": [
      "/Users/sebastianducheneAIr/ipykernel/ipykernel/__main__.py:106: DeprecationWarning: converting an array with ndim > 0 to an index will result in an error in the future\n",
      "/Users/sebastianducheneAIr/ipykernel/ipykernel/__main__.py:107: DeprecationWarning: converting an array with ndim > 0 to an index will result in an error in the future\n",
      "/Users/sebastianducheneAIr/ipykernel/ipykernel/__main__.py:111: DeprecationWarning: converting an array with ndim > 0 to an index will result in an error in the future\n"
     ]
    }
   ],
   "source": [
    "wow = fit_data(samples_poaceae[1])"
   ]
  },
  {
   "cell_type": "code",
   "execution_count": 9,
   "metadata": {
    "collapsed": false
   },
   "outputs": [
    {
     "name": "stdout",
     "output_type": "stream",
     "text": [
      "step 1\n",
      "step 1\n",
      "step 1\n",
      "step 1\n",
      "fitting 10 clustersfitting 10 clustersfitting 10 clustersfitting 10 clusters\n",
      "\n",
      "\n",
      "\n",
      "fitting 20 clustersfitting 20 clustersfitting 20 clustersfitting 20 clusters\n",
      "\n",
      "\n",
      "\n",
      "fitting 30 clustersfitting 30 clustersfitting 30 clustersfitting 30 clusters\n",
      "\n",
      "\n",
      "\n",
      "fitting 40 clustersfitting 40 clustersfitting 40 clustersfitting 40 clusters\n",
      "\n",
      "\n",
      "\n",
      "fitting 50 clustersfitting 50 clustersfitting 50 clustersfitting 50 clusters\n",
      "\n",
      "\n",
      "\n",
      "step 2step 2step 2step 2\n",
      "\n",
      "\n",
      "\n",
      "step 1\n",
      "fitting 10 clusters\n",
      "fitting 20 clusters\n",
      "fitting 30 clusters\n",
      "fitting 40 clusters\n",
      "fitting 50 clusters\n",
      "step 2\n"
     ]
    },
    {
     "name": "stderr",
     "output_type": "stream",
     "text": [
      "/Users/sebastianducheneAIr/ipykernel/ipykernel/__main__.py:106: DeprecationWarning: converting an array with ndim > 0 to an index will result in an error in the future\n",
      "/Users/sebastianducheneAIr/ipykernel/ipykernel/__main__.py:106: DeprecationWarning: converting an array with ndim > 0 to an index will result in an error in the future\n",
      "/Users/sebastianducheneAIr/ipykernel/ipykernel/__main__.py:106: DeprecationWarning: converting an array with ndim > 0 to an index will result in an error in the future\n",
      "/Users/sebastianducheneAIr/ipykernel/ipykernel/__main__.py:106: DeprecationWarning: converting an array with ndim > 0 to an index will result in an error in the future\n",
      "/Users/sebastianducheneAIr/ipykernel/ipykernel/__main__.py:107: DeprecationWarning: converting an array with ndim > 0 to an index will result in an error in the future\n",
      "/Users/sebastianducheneAIr/ipykernel/ipykernel/__main__.py:107: DeprecationWarning: converting an array with ndim > 0 to an index will result in an error in the future\n",
      "/Users/sebastianducheneAIr/ipykernel/ipykernel/__main__.py:107: DeprecationWarning: converting an array with ndim > 0 to an index will result in an error in the future\n",
      "/Users/sebastianducheneAIr/ipykernel/ipykernel/__main__.py:107: DeprecationWarning: converting an array with ndim > 0 to an index will result in an error in the future\n",
      "/Users/sebastianducheneAIr/ipykernel/ipykernel/__main__.py:111: DeprecationWarning: converting an array with ndim > 0 to an index will result in an error in the future\n",
      "/Users/sebastianducheneAIr/ipykernel/ipykernel/__main__.py:111: DeprecationWarning: converting an array with ndim > 0 to an index will result in an error in the future\n",
      "/Users/sebastianducheneAIr/ipykernel/ipykernel/__main__.py:111: DeprecationWarning: converting an array with ndim > 0 to an index will result in an error in the future\n",
      "/Users/sebastianducheneAIr/ipykernel/ipykernel/__main__.py:111: DeprecationWarning: converting an array with ndim > 0 to an index will result in an error in the future\n"
     ]
    }
   ],
   "source": [
    "p = Pool(4)\n",
    "s = p.map(fit_data, samples_poaceae)"
   ]
  },
  {
   "cell_type": "code",
   "execution_count": 12,
   "metadata": {
    "collapsed": false
   },
   "outputs": [
    {
     "data": {
      "text/html": [
       "<div>\n",
       "<table border=\"1\" class=\"dataframe\">\n",
       "  <thead>\n",
       "    <tr style=\"text-align: right;\">\n",
       "      <th></th>\n",
       "      <th>0</th>\n",
       "      <th>1</th>\n",
       "    </tr>\n",
       "  </thead>\n",
       "  <tbody>\n",
       "    <tr>\n",
       "      <th>0</th>\n",
       "      <td>vbgmm_shperical</td>\n",
       "      <td>2</td>\n",
       "    </tr>\n",
       "    <tr>\n",
       "      <th>1</th>\n",
       "      <td>vbgmm_shperical</td>\n",
       "      <td>2</td>\n",
       "    </tr>\n",
       "    <tr>\n",
       "      <th>2</th>\n",
       "      <td>vbgmm_shperical</td>\n",
       "      <td>2</td>\n",
       "    </tr>\n",
       "    <tr>\n",
       "      <th>3</th>\n",
       "      <td>vbgmm_shperical</td>\n",
       "      <td>2</td>\n",
       "    </tr>\n",
       "    <tr>\n",
       "      <th>4</th>\n",
       "      <td>vbgmm_shperical</td>\n",
       "      <td>2</td>\n",
       "    </tr>\n",
       "  </tbody>\n",
       "</table>\n",
       "</div>"
      ],
      "text/plain": [
       "                 0  1\n",
       "0  vbgmm_shperical  2\n",
       "1  vbgmm_shperical  2\n",
       "2  vbgmm_shperical  2\n",
       "3  vbgmm_shperical  2\n",
       "4  vbgmm_shperical  2"
      ]
     },
     "execution_count": 12,
     "metadata": {},
     "output_type": "execute_result"
    }
   ],
   "source": [
    "pd.DataFrame(s).to_c"
   ]
  },
  {
   "cell_type": "code",
   "execution_count": null,
   "metadata": {
    "collapsed": false
   },
   "outputs": [],
   "source": [
    "\n"
   ]
  },
  {
   "cell_type": "code",
   "execution_count": null,
   "metadata": {
    "collapsed": true
   },
   "outputs": [],
   "source": []
  }
 ],
 "metadata": {
  "kernelspec": {
   "display_name": "Python 2",
   "language": "python",
   "name": "python2"
  },
  "language_info": {
   "codemirror_mode": {
    "name": "ipython",
    "version": 2
   },
   "file_extension": ".py",
   "mimetype": "text/x-python",
   "name": "python",
   "nbconvert_exporter": "python",
   "pygments_lexer": "ipython2",
   "version": "2.7.10"
  }
 },
 "nbformat": 4,
 "nbformat_minor": 0
}
