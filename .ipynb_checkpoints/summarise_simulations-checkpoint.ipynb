{
 "metadata": {
  "name": "",
  "signature": "sha256:018d7bbe24a9cf013ba2a7e30b95afb85163a342611705f57c253ea649d5d954"
 },
 "nbformat": 3,
 "nbformat_minor": 0,
 "worksheets": [
  {
   "cells": [
    {
     "cell_type": "code",
     "collapsed": false,
     "input": [
      "import re\n",
      "import numpy as np\n",
      "import pandas as pd\n",
      "from scipy import stats\n",
      "import matplotlib.pyplot as plt\n",
      "execfile('GMM_trees.py')\n",
      "%pylab inline"
     ],
     "language": "python",
     "metadata": {},
     "outputs": [
      {
       "output_type": "stream",
       "stream": "stdout",
       "text": [
        "Populating the interactive namespace from numpy and matplotlib\n"
       ]
      }
     ],
     "prompt_number": 1
    },
    {
     "cell_type": "code",
     "collapsed": false,
     "input": [
      "angiosperm_sims = pd.read_csv('angio_simulations.csv', index_col=0)\n",
      "poaceae_sims = pd.read_csv('poaceae_simulations.csv', index_col = 0)\n",
      "eudicot_sims = pd.read_csv('eudicot_simulations.csv', index_col = 0)\n",
      "asteracea_sims = pd.read_csv('asteraceae_simulations.csv', index_col = 0)\n",
      "rosids_sims = pd.read_csv('rosids_simulations.csv', index_col = 0)"
     ],
     "language": "python",
     "metadata": {},
     "outputs": [],
     "prompt_number": 9
    },
    {
     "cell_type": "code",
     "collapsed": false,
     "input": [
      "summary_frame = pd.DataFrame(np.empty(shape = (5, 5)))\n",
      "summary_frame.columns = ['data_set', 'model_mode', 'model_prob', 'k_mode', 'k_prob']\n",
      "summary_frame.head()"
     ],
     "language": "python",
     "metadata": {},
     "outputs": [
      {
       "html": [
        "<div style=\"max-height:1000px;max-width:1500px;overflow:auto;\">\n",
        "<table border=\"1\" class=\"dataframe\">\n",
        "  <thead>\n",
        "    <tr style=\"text-align: right;\">\n",
        "      <th></th>\n",
        "      <th>data_set</th>\n",
        "      <th>model_mode</th>\n",
        "      <th>model_prob</th>\n",
        "      <th>k_mode</th>\n",
        "      <th>k_prob</th>\n",
        "    </tr>\n",
        "  </thead>\n",
        "  <tbody>\n",
        "    <tr>\n",
        "      <th>0</th>\n",
        "      <td>0</td>\n",
        "      <td>-2.681562e+154</td>\n",
        "      <td>7.410985e-323</td>\n",
        "      <td>0.000000e+00</td>\n",
        "      <td>0.000000e+00</td>\n",
        "    </tr>\n",
        "    <tr>\n",
        "      <th>1</th>\n",
        "      <td>0</td>\n",
        "      <td>0.000000e+00</td>\n",
        "      <td>0.000000e+00</td>\n",
        "      <td>0.000000e+00</td>\n",
        "      <td>0.000000e+00</td>\n",
        "    </tr>\n",
        "    <tr>\n",
        "      <th>2</th>\n",
        "      <td>0</td>\n",
        "      <td>0.000000e+00</td>\n",
        "      <td>0.000000e+00</td>\n",
        "      <td>0.000000e+00</td>\n",
        "      <td>0.000000e+00</td>\n",
        "    </tr>\n",
        "    <tr>\n",
        "      <th>3</th>\n",
        "      <td>0</td>\n",
        "      <td>0.000000e+00</td>\n",
        "      <td>0.000000e+00</td>\n",
        "      <td>3.755982e+199</td>\n",
        "      <td>2.343942e-56</td>\n",
        "    </tr>\n",
        "    <tr>\n",
        "      <th>4</th>\n",
        "      <td>0</td>\n",
        "      <td>0.000000e+00</td>\n",
        "      <td>2.362576e+180</td>\n",
        "      <td>9.511650e-43</td>\n",
        "      <td>3.597517e+252</td>\n",
        "    </tr>\n",
        "  </tbody>\n",
        "</table>\n",
        "</div>"
       ],
       "metadata": {},
       "output_type": "pyout",
       "prompt_number": 10,
       "text": [
        "   data_set     model_mode     model_prob         k_mode         k_prob\n",
        "0         0 -2.681562e+154  7.410985e-323   0.000000e+00   0.000000e+00\n",
        "1         0   0.000000e+00   0.000000e+00   0.000000e+00   0.000000e+00\n",
        "2         0   0.000000e+00   0.000000e+00   0.000000e+00   0.000000e+00\n",
        "3         0   0.000000e+00   0.000000e+00  3.755982e+199   2.343942e-56\n",
        "4         0   0.000000e+00  2.362576e+180   9.511650e-43  3.597517e+252"
       ]
      }
     ],
     "prompt_number": 10
    },
    {
     "cell_type": "code",
     "collapsed": false,
     "input": [
      "summary_frame.ix[0, :] = unlist(['Angiosperms', get_mode(angiosperm_sims.ix[:,0]), get_mode(angiosperm_sims.ix[:, 1])])\n",
      "summary_frame.ix[1, :] = unlist(['Angiosperms', get_mode(poaceae_sims.ix[:, 0]), get_mode(poaceae_sims.ix[:, 1])])\n",
      "summary_frame.ix[2, :] = unlist(['Eudicots', get_mode(eudicot_sims.ix[:,0]), get_mode(eudicot_sims.ix[:, 1])])\n",
      "summary_frame.ix[3, :] = unlist(['Asteraceae', get_mode(asteracea_sims.ix[:,0]), get_mode(asteracea_sims.ix[:,1])])\n",
      "summary_frame.ix[4, :] = unlist(['rosids', get_mode(rosids_sims.ix[:, 0]), get_mode(rosids_sims.ix[:, 1])])\n"
     ],
     "language": "python",
     "metadata": {},
     "outputs": [],
     "prompt_number": 11
    },
    {
     "cell_type": "code",
     "collapsed": false,
     "input": [
      "summary_frame"
     ],
     "language": "python",
     "metadata": {},
     "outputs": [
      {
       "html": [
        "<div style=\"max-height:1000px;max-width:1500px;overflow:auto;\">\n",
        "<table border=\"1\" class=\"dataframe\">\n",
        "  <thead>\n",
        "    <tr style=\"text-align: right;\">\n",
        "      <th></th>\n",
        "      <th>data_set</th>\n",
        "      <th>model_mode</th>\n",
        "      <th>model_prob</th>\n",
        "      <th>k_mode</th>\n",
        "      <th>k_prob</th>\n",
        "    </tr>\n",
        "  </thead>\n",
        "  <tbody>\n",
        "    <tr>\n",
        "      <th>0</th>\n",
        "      <td>Angiosperms</td>\n",
        "      <td>vbgmm_shperical</td>\n",
        "      <td>1</td>\n",
        "      <td>1</td>\n",
        "      <td>1.00</td>\n",
        "    </tr>\n",
        "    <tr>\n",
        "      <th>1</th>\n",
        "      <td>Angiosperms</td>\n",
        "      <td>vbgmm_shperical</td>\n",
        "      <td>1</td>\n",
        "      <td>2</td>\n",
        "      <td>1.00</td>\n",
        "    </tr>\n",
        "    <tr>\n",
        "      <th>2</th>\n",
        "      <td>Eudicots</td>\n",
        "      <td>vbgmm_shperical</td>\n",
        "      <td>1</td>\n",
        "      <td>2</td>\n",
        "      <td>1.00</td>\n",
        "    </tr>\n",
        "    <tr>\n",
        "      <th>3</th>\n",
        "      <td>Asteraceae</td>\n",
        "      <td>vbgmm_shperical</td>\n",
        "      <td>1</td>\n",
        "      <td>3</td>\n",
        "      <td>0.69</td>\n",
        "    </tr>\n",
        "    <tr>\n",
        "      <th>4</th>\n",
        "      <td>rosids</td>\n",
        "      <td>vbgmm_shperical</td>\n",
        "      <td>1</td>\n",
        "      <td>2</td>\n",
        "      <td>0.97</td>\n",
        "    </tr>\n",
        "  </tbody>\n",
        "</table>\n",
        "</div>"
       ],
       "metadata": {},
       "output_type": "pyout",
       "prompt_number": 12,
       "text": [
        "      data_set       model_mode  model_prob  k_mode  k_prob\n",
        "0  Angiosperms  vbgmm_shperical           1       1    1.00\n",
        "1  Angiosperms  vbgmm_shperical           1       2    1.00\n",
        "2     Eudicots  vbgmm_shperical           1       2    1.00\n",
        "3   Asteraceae  vbgmm_shperical           1       3    0.69\n",
        "4       rosids  vbgmm_shperical           1       2    0.97"
       ]
      }
     ],
     "prompt_number": 12
    },
    {
     "cell_type": "code",
     "collapsed": false,
     "input": [
      "summary_frame.to_csv('summary_simulations.csv')"
     ],
     "language": "python",
     "metadata": {},
     "outputs": [],
     "prompt_number": 101
    },
    {
     "cell_type": "code",
     "collapsed": false,
     "input": [],
     "language": "python",
     "metadata": {},
     "outputs": []
    }
   ],
   "metadata": {}
  }
 ]
}