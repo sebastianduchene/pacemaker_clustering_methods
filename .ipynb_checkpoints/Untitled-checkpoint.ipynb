{
 "cells": [
  {
   "cell_type": "code",
   "execution_count": null,
   "metadata": {
    "collapsed": false
   },
   "outputs": [],
   "source": [
    "import os, sys, re\n",
    "import pandas as pd\n",
    "import numpy as np\n",
    "from sklearn.decomposition import PCA\n",
    "import matplotlib.pyplot as plt\n",
    "import pylab\n",
    "from pylab import rcParams\n",
    "from sklearn import mixture\n",
    "import scipy.stats as sp\n",
    "from mpl_toolkits.mplot3d import Axes3D\n",
    "from scipy.spatial import distance\n",
    "import scipy.stats as sc\n",
    "from GMM_trees import *\n",
    "import itertools\n",
    "import multiprocessing\n",
    "from multiprocessing import Pool\n",
    "%pylab inline\n",
    "pylab.rcParams['figure.figsize'] = (20, 5)"
   ]
  },
  {
   "cell_type": "code",
   "execution_count": null,
   "metadata": {
    "collapsed": true
   },
   "outputs": [],
   "source": [
    "execfile('GMM_trees.py')"
   ]
  },
  {
   "cell_type": "code",
   "execution_count": null,
   "metadata": {
    "collapsed": true
   },
   "outputs": [],
   "source": [
    "def fit_sim_models(simulated_data):\n",
    "\n",
    "    def fit_data(i):\n",
    "        fit_temp_vbgmm = fit_VBGMM(simulated_data[i])\n",
    "        fit_temp_dpp = fit_DPGMM(simulated_data[i])\n",
    "    \n",
    "        run_models = unlist([fit_temp_vbgmm[:2], fit_temp_dpp[:2]])\n",
    "        models_order = np.hstack([fit_temp_vbgmm[2]['BIC'], fit_temp_dpp[2]['BIC']]).argsort()\n",
    "        best_model = run_models[models_order[0]]\n",
    "\n",
    "        k_best_model = len(set(best_model.predict(simulated_data[i])))\n",
    "        name_best_model = ['vbgmm_diag', 'vbgmm_shperical', 'dpp_diag', 'dpp_spherical'][models_order[0]]\n",
    "    \n",
    "        return [name_best_model, k_best_model]\n",
    "\n",
    "    p = Pool(6)\n",
    "    i_s = [x for x in range(len(simulated_data))]\n",
    "    out = p.map(fit_data, i_s)\n",
    "\n",
    "    return out"
   ]
  },
  {
   "cell_type": "code",
   "execution_count": null,
   "metadata": {
    "collapsed": false
   },
   "outputs": [],
   "source": [
    "## Poacea data \n",
    "poac_data = pd.DataFrame(rescale_data(np.array(pd.read_csv('poaceae_matrix.csv'))))\n",
    "poac_VBGMM = fit_VBGMM(np.array(poac_data))\n",
    "poac_DPGMM = fit_DPGMM(np.array(poac_data))\n",
    "\n",
    "print poac_VBGMM[2]\n",
    "print poac_DPGMM[2]"
   ]
  },
  {
   "cell_type": "code",
   "execution_count": null,
   "metadata": {
    "collapsed": false
   },
   "outputs": [],
   "source": [
    "samples_poaceae = simulate_data(poac_data, 2, 'spherical', 5)"
   ]
  },
  {
   "cell_type": "code",
   "execution_count": null,
   "metadata": {
    "collapsed": false
   },
   "outputs": [],
   "source": [
    "def fit_data(s_data):\n",
    "    print 'step 1'\n",
    "    fit_temp_vbgmm = fit_VBGMM(s_data)\n",
    "    fit_temp_dpp = fit_DPGMM(s_data)\n",
    "    print 'step 2'\n",
    "    run_models = unlist([fit_temp_vbgmm[:2], fit_temp_dpp[:2]])\n",
    "    models_order = np.hstack([fit_temp_vbgmm[2]['BIC'], fit_temp_dpp[2]['BIC']]).argsort()\n",
    "    best_model = run_models[models_order[0]]\n",
    "\n",
    "    k_best_model = len(set(best_model.predict(s_data)))\n",
    "    name_best_model = ['vbgmm_diag', 'vbgmm_shperical', 'dpp_diag', 'dpp_spherical'][models_order[0]]\n",
    "    return [name_best_model, k_best_model]\n",
    "    \n",
    "#    p = Pool(6)\n",
    "#    i_s = [x for x in range(len(simulated_data))]\n",
    "#    out = p.map(fit_data, i_s)"
   ]
  },
  {
   "cell_type": "code",
   "execution_count": null,
   "metadata": {
    "collapsed": false
   },
   "outputs": [],
   "source": [
    "wow = fit_data(samples_poaceae[8])"
   ]
  },
  {
   "cell_type": "code",
   "execution_count": null,
   "metadata": {
    "collapsed": false
   },
   "outputs": [],
   "source": [
    "p = Pool(4)\n",
    "s = p.map(fit_data, samples_poaceae)"
   ]
  },
  {
   "cell_type": "code",
   "execution_count": null,
   "metadata": {
    "collapsed": true
   },
   "outputs": [],
   "source": []
  }
 ],
 "metadata": {
  "kernelspec": {
   "display_name": "Python 2",
   "language": "python",
   "name": "python2"
  },
  "language_info": {
   "codemirror_mode": {
    "name": "ipython",
    "version": 2
   },
   "file_extension": ".py",
   "mimetype": "text/x-python",
   "name": "python",
   "nbconvert_exporter": "python",
   "pygments_lexer": "ipython2",
   "version": "2.7.10"
  }
 },
 "nbformat": 4,
 "nbformat_minor": 0
}
