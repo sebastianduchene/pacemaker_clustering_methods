{
 "cells": [
  {
   "cell_type": "code",
   "execution_count": null,
   "metadata": {
    "collapsed": false
   },
   "outputs": [],
   "source": [
    "import os, sys, re\n",
    "import pandas as pd\n",
    "import numpy as np\n",
    "from sklearn.decomposition import PCA\n",
    "import matplotlib.pyplot as plt\n",
    "import pylab\n",
    "from pylab import rcParams\n",
    "from sklearn import mixture\n",
    "import scipy.stats as sp\n",
    "from mpl_toolkits.mplot3d import Axes3D\n",
    "from scipy.spatial import distance\n",
    "import scipy.stats as sc\n",
    "from GMM_trees import *\n",
    "import itertools\n",
    "%pylab inline\n",
    "pylab.rcParams['figure.figsize'] = (20, 5)"
   ]
  },
  {
   "cell_type": "code",
   "execution_count": null,
   "metadata": {
    "collapsed": false
   },
   "outputs": [],
   "source": [
    "execfile('GMM_trees.py')"
   ]
  },
  {
   "cell_type": "code",
   "execution_count": null,
   "metadata": {
    "collapsed": false
   },
   "outputs": [],
   "source": [
    "# Angiosperm \n",
    "angio_dat = pd.DataFrame(rescale_data(np.array(pd.read_csv('angiosperm_matrix.csv'))))\n",
    "#angio_dat.transpose().plot(legend = False, linewidth = 3,alpha = 0.5)\n",
    "angio_vbgmm1 = fit_VBGMM(np.array(angio_dat))"
   ]
  },
  {
   "cell_type": "code",
   "execution_count": null,
   "metadata": {
    "collapsed": false
   },
   "outputs": [],
   "source": [
    "angio_vbgmm1"
   ]
  },
  {
   "cell_type": "markdown",
   "metadata": {},
   "source": [
    "- Get means for each dimension, data points that belong to each cluster. "
   ]
  },
  {
   "cell_type": "code",
   "execution_count": null,
   "metadata": {
    "collapsed": false
   },
   "outputs": [],
   "source": [
    "execfile('GMM_trees.py')\n",
    "angio_sims = make_pam_sims(data = angio_dat, model = angio_vbgmm1[1], reps = 100)"
   ]
  },
  {
   "cell_type": "code",
   "execution_count": null,
   "metadata": {
    "collapsed": false
   },
   "outputs": [],
   "source": [
    "plt.scatter(angio_sims[0].ix[:, 0], angio_sims[0].ix[:, 4])"
   ]
  },
  {
   "cell_type": "code",
   "execution_count": null,
   "metadata": {
    "collapsed": false
   },
   "outputs": [],
   "source": [
    "for r in enumerate(angio_sims):\n",
    "    r[1].to_csv('sim_pam_angio/sim_'+str(r[0])+'.csv')"
   ]
  },
  {
   "cell_type": "code",
   "execution_count": null,
   "metadata": {
    "collapsed": true
   },
   "outputs": [],
   "source": []
  },
  {
   "cell_type": "code",
   "execution_count": null,
   "metadata": {
    "collapsed": false
   },
   "outputs": [],
   "source": [
    "poac_data = pd.DataFrame(rescale_data(np.array(pd.read_csv('poaceae_matrix.csv'))))\n",
    "poac_VBGMM = fit_VBGMM(np.array(poac_data))\n",
    "poac_VBGMM"
   ]
  },
  {
   "cell_type": "code",
   "execution_count": null,
   "metadata": {
    "collapsed": false
   },
   "outputs": [],
   "source": [
    "execfile('GMM_trees.py')\n",
    "poac_sims = make_pam_sims(data = poac_data, model = poac_VBGMM[1], reps = 100)"
   ]
  },
  {
   "cell_type": "code",
   "execution_count": null,
   "metadata": {
    "collapsed": false
   },
   "outputs": [],
   "source": [
    "for r in enumerate(poac_sims):\n",
    "    r[1].to_csv('sim_pam_poac/sim_'+str(r[0])+'.csv')"
   ]
  },
  {
   "cell_type": "code",
   "execution_count": null,
   "metadata": {
    "collapsed": false
   },
   "outputs": [],
   "source": [
    "plt.scatter(poac_sims[4].ix[:, 3], poac_sims[4].ix[:, 30])"
   ]
  },
  {
   "cell_type": "code",
   "execution_count": null,
   "metadata": {
    "collapsed": false
   },
   "outputs": [],
   "source": [
    "aster_data = pd.DataFrame(rescale_data(np.array(pd.read_csv('asteraceae_matrix.csv'))))\n",
    "aster_VBGMM = fit_VBGMM(np.array(aster_data))\n",
    "aster_VBGMM"
   ]
  },
  {
   "cell_type": "code",
   "execution_count": null,
   "metadata": {
    "collapsed": false
   },
   "outputs": [],
   "source": [
    "aster_sims = make_pam_sims(aster_data, aster_VBGMM[1], reps = 100)"
   ]
  },
  {
   "cell_type": "code",
   "execution_count": null,
   "metadata": {
    "collapsed": false
   },
   "outputs": [],
   "source": [
    "print len(aster_sims)\n",
    "plt.scatter(aster_sims[3].ix[:, 2], aster_sims[3].ix[:, 5])"
   ]
  },
  {
   "cell_type": "code",
   "execution_count": null,
   "metadata": {
    "collapsed": false
   },
   "outputs": [],
   "source": [
    "for r in enumerate(aster_sims):\n",
    "    r[1].to_csv('sim_pam_aster/sim_'+str(r[0])+'.csv')"
   ]
  },
  {
   "cell_type": "code",
   "execution_count": null,
   "metadata": {
    "collapsed": true
   },
   "outputs": [],
   "source": []
  },
  {
   "cell_type": "code",
   "execution_count": null,
   "metadata": {
    "collapsed": false
   },
   "outputs": [],
   "source": [
    "eudicot_dat = pd.DataFrame(rescale_data(np.array(pd.read_csv('eudicot_matrix.csv'))))\n",
    "eudicot_VBGMM = fit_VBGMM(np.array(eudicot_dat))\n",
    "eudicot_VBGMM"
   ]
  },
  {
   "cell_type": "code",
   "execution_count": null,
   "metadata": {
    "collapsed": true
   },
   "outputs": [],
   "source": [
    "eudicot_sims = make_pam_sims(eudicot_dat, eudicot_VBGMM[1], 100)"
   ]
  },
  {
   "cell_type": "code",
   "execution_count": null,
   "metadata": {
    "collapsed": false
   },
   "outputs": [],
   "source": [
    "print len(eudicot_sims)\n",
    "plt.scatter(eudicot_sims[0].ix[:, 1], eudicot_sims[0].ix[:, 5])"
   ]
  },
  {
   "cell_type": "code",
   "execution_count": null,
   "metadata": {
    "collapsed": true
   },
   "outputs": [],
   "source": [
    "for r in enumerate(eudicot_sims):\n",
    "    r[1].to_csv('sim_pam_eudicot/sim_'+str(r[0])+'.csv')"
   ]
  },
  {
   "cell_type": "code",
   "execution_count": null,
   "metadata": {
    "collapsed": true
   },
   "outputs": [],
   "source": []
  },
  {
   "cell_type": "code",
   "execution_count": null,
   "metadata": {
    "collapsed": false
   },
   "outputs": [],
   "source": [
    "rosids_data = pd.DataFrame(rescale_data(np.array(pd.read_csv('rosids_matrix.csv'))))\n",
    "rosids_VBGMM = fit_VBGMM(rosids_data)\n",
    "rosids_VBGMM"
   ]
  },
  {
   "cell_type": "code",
   "execution_count": null,
   "metadata": {
    "collapsed": false
   },
   "outputs": [],
   "source": [
    "rosids_sims = make_pam_sims(rosids_data, rosids_VBGMM[1], 100)"
   ]
  },
  {
   "cell_type": "code",
   "execution_count": null,
   "metadata": {
    "collapsed": true
   },
   "outputs": [],
   "source": [
    "plt.scatter(rosids_sims[10].ix[:, 2], rosids_sims[10].ix[:, 3])"
   ]
  },
  {
   "cell_type": "code",
   "execution_count": null,
   "metadata": {
    "collapsed": true
   },
   "outputs": [],
   "source": []
  }
 ],
 "metadata": {
  "kernelspec": {
   "display_name": "Python 2",
   "language": "python",
   "name": "python2"
  },
  "language_info": {
   "codemirror_mode": {
    "name": "ipython",
    "version": 2
   },
   "file_extension": ".py",
   "mimetype": "text/x-python",
   "name": "python",
   "nbconvert_exporter": "python",
   "pygments_lexer": "ipython2",
   "version": "2.7.10"
  }
 },
 "nbformat": 4,
 "nbformat_minor": 0
}
