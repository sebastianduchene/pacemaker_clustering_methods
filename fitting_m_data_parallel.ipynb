{
 "cells": [
  {
   "cell_type": "code",
   "execution_count": 10,
   "metadata": {
    "collapsed": false
   },
   "outputs": [],
   "source": [
    "import os, sys, re\n",
    "import pandas as pd\n",
    "import numpy as np\n",
    "from sklearn.decomposition import PCA\n",
    "from sklearn import mixture\n",
    "import scipy.stats as sp\n",
    "from scipy.spatial import distance\n",
    "import scipy.stats as sc\n",
    "from GMM_trees import *\n",
    "import itertools\n",
    "import multiprocessing\n",
    "from multiprocessing import Pool"
   ]
  },
  {
   "cell_type": "code",
   "execution_count": 11,
   "metadata": {
    "collapsed": true
   },
   "outputs": [],
   "source": [
    "# Simulate 100 data sets\n",
    "mm_dat = pd.DataFrame(rescale_data(np.array(pd.read_csv('mammal_matrix.csv'))))\n",
    "samples_temp_2 = simulate_data(mm_dat, 2, 'spherical', 4)\n",
    "for i in range(len(samples_temp_2)):\n",
    "    pd.DataFrame(samples_temp_2[i]).to_csv('sim_mammals_2/sim_'+str(i)+'.csv')"
   ]
  },
  {
   "cell_type": "code",
   "execution_count": 12,
   "metadata": {
    "collapsed": true
   },
   "outputs": [],
   "source": [
    "def fit_data(s_data):\n",
    "    print 'step 1'\n",
    "    fit_temp_vbgmm = fit_VBGMM(s_data)\n",
    "    fit_temp_dpp = fit_DPGMM(s_data)\n",
    "    print 'step 2'\n",
    "    run_models = unlist([fit_temp_vbgmm[:2], fit_temp_dpp[:2]])\n",
    "    models_order = np.hstack([fit_temp_vbgmm[2]['BIC'], fit_temp_dpp[2]['BIC']]).argsort()\n",
    "    best_model = run_models[models_order[0]]\n",
    "\n",
    "    k_best_model = len(set(best_model.predict(s_data)))\n",
    "    name_best_model = ['vbgmm_diag', 'vbgmm_shperical', 'dpp_diag', 'dpp_spherical'][models_order[0]]\n",
    "    return [name_best_model, k_best_model]\n",
    "    \n",
    "\n",
    "def fit_data(s_data):\n",
    "    print 'step 1'\n",
    "    fit_temp_vbgmm = fit_VBGMM(s_data)\n",
    "    fit_temp_dpp = fit_DPGMM(s_data)\n",
    "    print 'step 2'\n",
    "    run_models = unlist([fit_temp_vbgmm[:2], fit_temp_dpp[:2]])\n",
    "    models_order = np.hstack([fit_temp_vbgmm[2]['BIC'], fit_temp_dpp[2]['BIC']]).argsort()\n",
    "    best_model = run_models[models_order[0]]\n",
    "\n",
    "    k_best_model = len(set(best_model.predict(s_data)))\n",
    "    name_best_model = ['vbgmm_diag', 'vbgmm_shperical', 'dpp_diag', 'dpp_spherical'][models_order[0]]\n",
    "    return [name_best_model, k_best_model]"
   ]
  },
  {
   "cell_type": "code",
   "execution_count": 13,
   "metadata": {
    "collapsed": false
   },
   "outputs": [
    {
     "name": "stdout",
     "output_type": "stream",
     "text": [
      "step 1\n",
      "step 1\n",
      "step 1\n",
      "step 1\n",
      "fitting 10 clustersfitting 10 clustersfitting 10 clustersfitting 10 clusters\n",
      "\n",
      "\n",
      "\n",
      "fitting 20 clustersfitting 20 clustersfitting 20 clustersfitting 20 clusters\n",
      "\n",
      "\n",
      "\n",
      "fitting 30 clustersfitting 30 clustersfitting 30 clustersfitting 30 clusters\n",
      "\n",
      "\n",
      "\n",
      "fitting 40 clustersfitting 40 clustersfitting 40 clustersfitting 40 clusters\n",
      "\n",
      "\n",
      "\n",
      "fitting 50 clustersfitting 50 clustersfitting 50 clustersfitting 50 clusters\n",
      "\n",
      "\n",
      "\n",
      "fitting 60 clustersfitting 60 clustersfitting 60 clustersfitting 60 clusters\n",
      "\n",
      "\n",
      "\n",
      "fitting 70 clustersfitting 70 clustersfitting 70 clustersfitting 70 clusters\n",
      "\n",
      "\n",
      "\n",
      "fitting 80 clustersfitting 80 clustersfitting 80 clustersfitting 80 clusters\n",
      "\n",
      "\n",
      "\n",
      "fitting 90 clustersfitting 90 clustersfitting 90 clustersfitting 90 clusters\n",
      "\n",
      "\n",
      "\n",
      "fitting 100 clustersfitting 100 clustersfitting 100 clustersfitting 100 clusters\n",
      "\n",
      "\n",
      "\n",
      "fitting 110 clustersfitting 110 clustersfitting 110 clustersfitting 110 clusters\n",
      "\n",
      "\n",
      "\n",
      "fitting 120 clustersfitting 120 clustersfitting 120 clustersfitting 120 clusters\n",
      "\n",
      "\n",
      "\n",
      "fitting 130 clustersfitting 130 clustersfitting 130 clustersfitting 130 clusters\n",
      "\n",
      "\n",
      "\n",
      "fitting 140 clustersfitting 140 clustersfitting 140 clustersfitting 140 clusters\n",
      "\n",
      "\n",
      "\n",
      "fitting 150 clustersfitting 150 clustersfitting 150 clustersfitting 150 clusters\n",
      "\n",
      "\n",
      "\n",
      "fitting 160 clustersfitting 160 clustersfitting 160 clustersfitting 160 clusters\n",
      "\n",
      "\n",
      "\n",
      "fitting 170 clustersfitting 170 clustersfitting 170 clustersfitting 170 clusters\n",
      "\n",
      "\n",
      "\n",
      "fitting 180 clustersfitting 180 clustersfitting 180 clustersfitting 180 clusters\n",
      "\n",
      "\n",
      "\n",
      "fitting 190 clustersfitting 190 clustersfitting 190 clustersfitting 190 clusters\n",
      "\n",
      "\n",
      "\n",
      "fitting 200 clustersfitting 200 clustersfitting 200 clustersfitting 200 clusters\n",
      "\n",
      "\n",
      "\n",
      "fitting 210 clustersfitting 210 clustersfitting 210 clustersfitting 210 clusters\n",
      "\n",
      "\n",
      "\n",
      "fitting 220 clustersfitting 220 clustersfitting 220 clustersfitting 220 clusters\n",
      "\n",
      "\n",
      "\n",
      "fitting 230 clustersfitting 230 clustersfitting 230 clustersfitting 230 clusters\n",
      "\n",
      "\n",
      "\n",
      "fitting 240 clustersfitting 240 clustersfitting 240 clustersfitting 240 clusters\n",
      "\n",
      "\n",
      "\n",
      "fitting 250 clustersfitting 250 clustersfitting 250 clustersfitting 250 clusters\n",
      "\n",
      "\n",
      "\n",
      "fitting 260 clustersfitting 260 clustersfitting 260 clustersfitting 260 clusters\n",
      "\n",
      "\n",
      "\n",
      "fitting 270 clustersfitting 270 clustersfitting 270 clustersfitting 270 clusters\n",
      "\n",
      "\n",
      "\n",
      "fitting 280 clustersfitting 280 clustersfitting 280 clustersfitting 280 clusters\n",
      "\n",
      "\n",
      "\n",
      "fitting 290 clustersfitting 290 clustersfitting 290 clustersfitting 290 clusters\n",
      "\n",
      "\n",
      "\n",
      "fitting 300 clustersfitting 300 clustersfitting 300 clustersfitting 300 clusters\n",
      "\n",
      "\n",
      "\n",
      "fitting 310 clustersfitting 310 clustersfitting 310 clustersfitting 310 clusters\n",
      "\n",
      "\n",
      "\n",
      "fitting 320 clustersfitting 320 clustersfitting 320 clustersfitting 320 clusters\n",
      "\n",
      "\n",
      "\n",
      "fitting 330 clustersfitting 330 clustersfitting 330 clustersfitting 330 clusters\n",
      "\n",
      "\n",
      "\n",
      "fitting 340 clustersfitting 340 clustersfitting 340 clustersfitting 340 clusters\n",
      "\n",
      "\n",
      "\n",
      "fitting 350 clustersfitting 350 clustersfitting 350 clustersfitting 350 clusters\n",
      "\n",
      "\n",
      "\n",
      "fitting 360 clustersfitting 360 clustersfitting 360 clustersfitting 360 clusters\n",
      "\n",
      "\n",
      "\n",
      "fitting 370 clustersfitting 370 clustersfitting 370 clustersfitting 370 clusters\n",
      "\n",
      "\n",
      "\n",
      "fitting 380 clustersfitting 380 clustersfitting 380 clustersfitting 380 clusters\n",
      "\n",
      "\n",
      "\n",
      "fitting 390 clustersfitting 390 clustersfitting 390 clustersfitting 390 clusters\n",
      "\n",
      "\n",
      "\n",
      "fitting 400 clustersfitting 400 clustersfitting 400 clustersfitting 400 clusters\n",
      "\n",
      "\n",
      "\n",
      "fitting 410 clustersfitting 410 clustersfitting 410 clustersfitting 410 clusters\n",
      "\n",
      "\n",
      "\n",
      "fitting 420 clustersfitting 420 clustersfitting 420 clustersfitting 420 clusters\n",
      "\n",
      "\n",
      "\n",
      "step 2step 2step 2step 2\n",
      "\n",
      "\n",
      "\n"
     ]
    }
   ],
   "source": [
    "p = Pool(4)\n",
    "s = p.map(fit_data, samples_temp_2)"
   ]
  },
  {
   "cell_type": "code",
   "execution_count": 15,
   "metadata": {
    "collapsed": false
   },
   "outputs": [
    {
     "data": {
      "text/plain": [
       "[['vbgmm_shperical', 1],\n",
       " ['vbgmm_shperical', 1],\n",
       " ['vbgmm_shperical', 1],\n",
       " ['vbgmm_shperical', 1]]"
      ]
     },
     "execution_count": 15,
     "metadata": {},
     "output_type": "execute_result"
    }
   ],
   "source": [
    "s"
   ]
  },
  {
   "cell_type": "code",
   "execution_count": 20,
   "metadata": {
    "collapsed": false
   },
   "outputs": [],
   "source": [
    "open('wow.csv', 'w').write(s[0][0])"
   ]
  },
  {
   "cell_type": "code",
   "execution_count": null,
   "metadata": {
    "collapsed": true
   },
   "outputs": [],
   "source": []
  }
 ],
 "metadata": {
  "kernelspec": {
   "display_name": "Python 2",
   "language": "python",
   "name": "python2"
  },
  "language_info": {
   "codemirror_mode": {
    "name": "ipython",
    "version": 2
   },
   "file_extension": ".py",
   "mimetype": "text/x-python",
   "name": "python",
   "nbconvert_exporter": "python",
   "pygments_lexer": "ipython2",
   "version": "2.7.10"
  }
 },
 "nbformat": 4,
 "nbformat_minor": 0
}
